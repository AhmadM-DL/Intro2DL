{
  "nbformat": 4,
  "nbformat_minor": 0,
  "metadata": {
    "colab": {
      "name": "Introduction2DL.ipynb",
      "provenance": [],
      "collapsed_sections": [],
      "authorship_tag": "ABX9TyN4dPjtDB17DEkVo4wfuX2e",
      "include_colab_link": true
    },
    "kernelspec": {
      "name": "python3",
      "display_name": "Python 3"
    },
    "language_info": {
      "name": "python"
    }
  },
  "cells": [
    {
      "cell_type": "markdown",
      "metadata": {
        "id": "view-in-github",
        "colab_type": "text"
      },
      "source": [
        "<a href=\"https://colab.research.google.com/github/AhmadM-DL/Intro2DL/blob/main/Introduction2DL.ipynb\" target=\"_parent\"><img src=\"https://colab.research.google.com/assets/colab-badge.svg\" alt=\"Open In Colab\"/></a>"
      ]
    },
    {
      "cell_type": "markdown",
      "metadata": {
        "id": "CSCERioIQBAi"
      },
      "source": [
        "#Introduction to Deep Learning\n",
        "<!-- \n",
        "By: Ahmad Mustapha - Machine Learning researcher @ AUB \n",
        "LinkedIn: ahmad-mustapha-ml\n",
        "-->"
      ]
    },
    {
      "cell_type": "markdown",
      "metadata": {
        "id": "-vGnablQ6WiQ"
      },
      "source": [
        "First we embrace Natural Intelligence: [Giant Trevally vs Bird](https://www.youtube.com/watch?v=efdPnL-mBUA)"
      ]
    },
    {
      "cell_type": "markdown",
      "metadata": {
        "id": "oK2Yjjf8P_ks"
      },
      "source": [
        "<img src=\"https://firebasestorage.googleapis.com/v0/b/thisnightskydoesnotexist.appspot.com/o/images%2Fseed3425.jpg?alt=media\" alt=\"drawing\" width=\"330\"/>\n",
        "<img src=\"https://thisartworkdoesnotexist.com/\" alt=\"drawing\" width=\"330\"/>\n",
        "<img src=\"https://thispersondoesnotexist.com/image\" alt=\"drawing\" width=\"330\"/>\n"
      ]
    },
    {
      "cell_type": "markdown",
      "metadata": {
        "id": "F0pWNbEF6dZz"
      },
      "source": [
        "Deep Learning is a subset of Machine Learning algorithms that have risen recently as the de facto approach for different learning tasks. One can introduce Deep Learning from different aspects. You can see the big picture, the mathematical underlying, what works in practice, or the applications. I personally argue the more the person uses and implements deep learning models his understanding of the techniques will increase with time. Thus the goal of this introduction is to understand intuitively how different deep learning models operate and to apply them hands-on at the code level. Some [researchers](https://https://www.sciencemag.org/news/2018/05/ai-researchers-allege-machine-learning-alchemy) even say that deep learning is a sort of alchemy where researchers use trial-and-error to solve problems as in medieval alchemy without really knowing why something work and the other doesn't. I support the claim to some degree. As long you understand the intuition behind the algorithms and apply them through code you are on the right track and don't worry about mathematical understanding at this level."
      ]
    },
    {
      "cell_type": "markdown",
      "metadata": {
        "id": "_VpIgiFgFda_"
      },
      "source": [
        "### Outline"
      ]
    },
    {
      "cell_type": "markdown",
      "metadata": {
        "id": "CJ1eY-neFlLF"
      },
      "source": [
        "The crash course will be taught according to the following outline:\n",
        "\n",
        "A. Part 1 - Introduction\n",
        "1.   Deep learning: pipeline and applications. [Link](https://teachablemachine.withgoogle.com/train)\n",
        "\n",
        "2.   Neural Networks: history, perceptron, backpropagation\n",
        "\n",
        "B. Part 2 - Artificial Neural Networks\n",
        "1.   Artificial Neural Networks\n",
        "2.   Hands-on with Scikit Learn\n",
        "\n",
        "C. Part 3 - Convolutional Neural Networks / Computer Vision\n",
        "1.   Traditional Computer Vision and Convolution\n",
        "1.   Convolutional Neural Networks\n",
        "2.   Hands-on with Keras\n",
        "\n",
        "D. Part 4 - Recurrent Neural Networks / Natural Language Processing\n",
        "1.  Recurrent Neural Networks\n",
        "2.  Long Short Term Memory (LSTM)\n",
        "3.  A quick passage on Word Embeddings\n",
        "5.  Hands-on with Keras"
      ]
    },
    {
      "cell_type": "markdown",
      "metadata": {
        "id": "3RO2i4uWJL84"
      },
      "source": [
        "### Resources"
      ]
    },
    {
      "cell_type": "markdown",
      "metadata": {
        "id": "5-tNKUJuJOWn"
      },
      "source": [
        "* Deep Learning Illustrated: A Visual, Interactive Guide to Artificial Intelligence. Link: [Oreilly](https://learning.oreilly.com/library/view/deep-learning-illustrated/9780135116821/)\n",
        "* Hands-On Machine Learning with Scikit-Learn, Keras, and TensorFlow, 2nd Edition. Link: [Orielly](https://learning.oreilly.com/library/view/hands-on-machine-learning/9781492032632/)\n",
        "* Understanding LSTM Networks. Link: [Colah Blog](http://colah.github.io/posts/2015-08-Understanding-LSTMs/)\n",
        "* The Unreasonable Effectiveness of Recurrent Neural Networks. Link. [Andrej Karpathy Blog](http://karpathy.github.io/2015/05/21/rnn-effectiveness/)\n",
        "* Recurrent Neural Network (RNN) Tutorial for Beginners. Link: [Simplilearn](https://www.simplilearn.com/tutorials/deep-learning-tutorial/rnn)\n",
        "*Machine Learning with Neural Networks Using scikit-learn. Link: [pluralsight](https://www.pluralsight.com/guides/machine-learning-neural-networks-scikit-learn)\n"
      ]
    },
    {
      "cell_type": "code",
      "metadata": {
        "id": "JYG2UFvG4M8D"
      },
      "source": [
        ""
      ],
      "execution_count": null,
      "outputs": []
    }
  ]
}